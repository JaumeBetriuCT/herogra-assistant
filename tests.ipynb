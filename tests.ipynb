{
 "cells": [
  {
   "cell_type": "code",
   "execution_count": 81,
   "metadata": {},
   "outputs": [],
   "source": [
    "from docx import Document\n",
    "import os\n",
    "import re\n",
    "import streamlit as st\n",
    "import openai\n",
    "import time"
   ]
  },
  {
   "cell_type": "code",
   "execution_count": 82,
   "metadata": {},
   "outputs": [],
   "source": [
    "from reportlab.lib.pagesizes import letter\n",
    "from reportlab.platypus import SimpleDocTemplate, Paragraph\n",
    "from reportlab.lib.styles import getSampleStyleSheet\n",
    "from reportlab.rl_config import defaultPageSize\n",
    "from reportlab.lib import colors"
   ]
  },
  {
   "cell_type": "code",
   "execution_count": 83,
   "metadata": {},
   "outputs": [],
   "source": [
    "# Set the openai api-key using streamlit secrets:\n",
    "openai.api_key = st.secrets[\"OPENAI_API_KEY\"]"
   ]
  },
  {
   "cell_type": "code",
   "execution_count": 84,
   "metadata": {},
   "outputs": [],
   "source": [
    "def remove_images_from_docx(input_docx_file: str, cleaned_doc: Document) -> Document:\n",
    "    \"\"\"\n",
    "    Removes the images of a word document and stores the paragraphs inside the cleaned_doc object\n",
    "    \"\"\"\n",
    "    # Open the input Word document\n",
    "    doc = Document(input_docx_file)\n",
    "\n",
    "    # Collect original paragraphs:\n",
    "    original_paragraphs = [para.text for para in doc.paragraphs]\n",
    "\n",
    "    for text in original_paragraphs:\n",
    "        cleaned_doc.add_paragraph(text)\n",
    "    \n",
    "    # Return the document without images\n",
    "    return cleaned_doc\n",
    "\n",
    "def clean_file_name(file_name: str) -> str:\n",
    "    \"\"\"\n",
    "    Cleans the file name to eliminate numbers and other things that add no value such as \"1.\", \"02.A\", ...\n",
    "    \"\"\"\n",
    "    # First remove the .docx:\n",
    "    cleaned_file_name = file_name.replace(\".docx\", \"\")\n",
    "    # Remove the numbers with parenthesis:\n",
    "    cleaned_file_name = re.sub(r\"\\(\\d+\\)\", \"\", cleaned_file_name)\n",
    "    # Remove the special cases such as \"02A\", \"05A\":\n",
    "    cleaned_file_name = re.sub(r\"\\d{2}[A-Za-z]\\.\", \"\", cleaned_file_name)\n",
    "    # Remove the nomral cases of the numeration of the documents:\n",
    "    cleaned_file_name = re.sub(r\"\\d+\\.|\\d+\", \"\", cleaned_file_name)\n",
    "\n",
    "    # Remove too paters such as \"WI-CS-XX\", \"WI-CS\", \"WIP\":\n",
    "    cleaned_file_name = re.sub(r\"[A-Z]{2}-[A-Z]{2}-[A-Z]{2}\", \"\", cleaned_file_name)\n",
    "    cleaned_file_name = re.sub(r\"WIP\", \"\", cleaned_file_name)\n",
    "    cleaned_file_name = re.sub(r\"[A-Z]{2}-[A-Z]{2}\", \"\", cleaned_file_name)\n",
    "    cleaned_file_name = re.sub(r\"[A-Z]{2}-\\d{2}\", \"\", cleaned_file_name)\n",
    "    cleaned_file_name = re.sub(r\"WI\", \"\", cleaned_file_name)\n",
    "\n",
    "    # To end remove the residual \"-\" characters:\n",
    "    cleaned_file_name = cleaned_file_name.replace(\"-\", \"\")\n",
    "\n",
    "    # Add a point and a space to the end:\n",
    "    cleaned_file_name = cleaned_file_name + \". \"\n",
    "\n",
    "    return cleaned_file_name\n",
    "\n",
    "def chat(inp, message_history, role=\"user\"):\n",
    "    \n",
    "    message_history.append({\"role\": role, \"content\": inp})\n",
    "\n",
    "    # Use the large models so it can summarize large documents:\n",
    "    completion = openai.ChatCompletion.create(\n",
    "        model=\"gpt-3.5-turbo-16k\",\n",
    "        messages=message_history\n",
    "    )\n",
    "\n",
    "    reply_content = completion.choices[0].message.content\n",
    "\n",
    "    return reply_content\n",
    "\n",
    "def extract_text(document: Document) -> str:\n",
    "    \"\"\"\n",
    "    Extracts all the text from a Document() end returns it in a string\n",
    "    \"\"\"\n",
    "\n",
    "    # Define the variable to store the text to extract:\n",
    "    extracted_text = \"\"\n",
    "\n",
    "    paragraphs_text = [para.text for para in document.paragraphs]\n",
    "    for text in paragraphs_text:\n",
    "        extracted_text = extracted_text + text\n",
    "\n",
    "    return extracted_text\n",
    "\n",
    "def delete_page_breaks(input_string: str) -> str:\n",
    "    \"\"\"\n",
    "    Deletes the page breaks of a string\n",
    "    \"\"\"\n",
    "\n",
    "    return input_string.replace(\"\\n\", \"\")\n",
    "\n",
    "def create_pdf(summarized_text: str, pdf_name: str) -> None:\n",
    "    \"\"\"\n",
    "    Takes the text and generates a pdf named using the passed pdf_name that contains the text\n",
    "    \"\"\"\n",
    "\n",
    "    # Create a document template\n",
    "    pdf_doc = SimpleDocTemplate(pdf_name, pagesize=letter)\n",
    "\n",
    "    # Create a list to hold the flowables (elements to be added to the PDF)\n",
    "    story = []\n",
    "\n",
    "    # Define a style for the paragraph\n",
    "    styles = getSampleStyleSheet()\n",
    "    style = styles[\"Normal\"]\n",
    "    style.textColor = colors.black\n",
    "\n",
    "    # Create a Paragraph object with your text and style\n",
    "    paragraph = Paragraph(summarized_text, style)\n",
    "\n",
    "    # Add the paragraph to the story\n",
    "    story.append(paragraph)\n",
    "\n",
    "    # Build the PDF with the story\n",
    "    pdf_doc.build(story)\n",
    "\n",
    "def return_message_history(mode: str) -> dict:\n",
    "    \"\"\"\n",
    "    Returns the context for chatgpt depending of the mode: \"summarizer\" to summarize the documents or \"how_to\" to modify the titles\n",
    "    of the documents to put them in the format \"How to ...\"\n",
    "    \"\"\"\n",
    "\n",
    "    if mode == \"summarizer\":\n",
    "        message_history = [\n",
    "            {\n",
    "                \"role\": \"user\",\n",
    "                \"content\": \"I will give you a text that contains information about how to carry out a process extracted from a document used by the employees of a company. I need you to compact all the points in one paragraph without losing information. Can you do it?\"\n",
    "            },\n",
    "            {\n",
    "                \"role\": \"assistant\",\n",
    "                \"content\": \"Of course, I can help you with that. Please provide the text containing the process information, and I will condense it into a single paragraph while retaining all the essential details.\"\n",
    "            }\n",
    "        ]\n",
    "\n",
    "    if mode == \"how_to\":\n",
    "        message_history = [\n",
    "            {\n",
    "                \"role\": \"user\",\n",
    "                \"content\": \"I will give you a text that contains information about how to carry out a process extracted from a document used by the employees of a company. I need you to compact all the points in one paragraph without losing information. Can you do it?\"\n",
    "            },\n",
    "            {\n",
    "                \"role\": \"assistant\",\n",
    "                \"content\": \"Of course, I can help you with that. Please provide the text containing the process information, and I will condense it into a single paragraph while retaining all the essential details.\"\n",
    "            }\n",
    "        ]\n",
    "\n",
    "    return message_history"
   ]
  },
  {
   "cell_type": "code",
   "execution_count": 87,
   "metadata": {},
   "outputs": [
    {
     "name": "stdout",
     "output_type": "stream",
     "text": [
      "Summarizing 02A. How To Send The Supplier A Purchase Order Created From A Purchase Request - no printer setup(1).docx...\n",
      "Summarizing 17. How to Manage a CAPEX Purchase Requisition(1).docx...\n",
      "Summarizing WI 02 On Hand Stock.docx...\n",
      "Summarizing 02. How To Send The Supplier A Purchase Order Created From A Purchase Request(1).docx...\n",
      "Summarizing WI 25 Changing a delivery address in a Confirmed Sales Order(1).docx...\n",
      "Summarizing 23. How To Manage Non Conformance Set Up(1).docx...\n",
      "Summarizing WI-CS-XX - Consignement Stock.docx...\n",
      "Summarizing 37. How to Create a Workspace Tile for Open Service POs(1).docx...\n",
      "Summarizing 11. How To Create A New Vendor(1).docx...\n",
      "Summarizing 14. How To Create A Non Conformance(3).docx...\n",
      "Summarizing 29. Request Changes in PO(1).docx...\n",
      "Summarizing WI 13 Set up requirements for sales order.docx...\n",
      "Summarizing 36. Assigning a Vendor Chain(1).docx...\n",
      "Summarizing WI 11 Trade Agreement from a Sales Order.docx...\n",
      "Summarizing 35. How To add Extra Charges to a Purchase Order(1).docx...\n",
      "Summarizing 04. How To Send To The Supplier A Purchase Order Created Manually(1).docx...\n",
      "Summarizing WI 20 How to stop and cancel a sales order line.docx...\n",
      "Summarizing 26. Workflow Management of Approval Requests(2).docx...\n",
      "Summarizing 32. Vendor Creation Setting Up Alerts(1).docx...\n",
      "Summarizing 05A. How To Update A Price in a Purchase Agreement And Submit To The Workflow(2).docx...\n",
      "Summarizing WI 06 Releasing Global Customer.docx...\n",
      "Summarizing WI 15 - Customer Item Numbers.docx...\n",
      "Summarizing 06. How To Send A Purchase Agreement To A Supplier(1).docx...\n",
      "Summarizing WI-CS-04 - Scheduling Agreement.docx...\n",
      "Summarizing 07. How To Create A Trade Agreement(1).docx...\n",
      "Summarizing WI 14  Checking Material Master and MOQ.docx...\n",
      "Summarizing 10. How To Print A Delivery Schedule For A Purchase Agreement(1).docx...\n",
      "Summarizing WI 03 Display Sales Order.docx...\n",
      "Summarizing 28 Consignment Process(1).docx...\n",
      "Summarizing 30. How To Receipt a Service Item(1).docx...\n",
      "Summarizing WI 17 Sales Reports.docx...\n",
      "Summarizing WI 09 Open Sales Order lines Report.docx...\n",
      "Summarizing WI 21 How to cancel and put On Hold a Sales Order.docx...\n",
      "Summarizing WI 04 Creating Trade Agreement.docx...\n",
      "Summarizing WIP 22 Creation of a Prepayment Sales Order.docx...\n",
      "Summarizing 33.  How to Download Goods Received Report(1).docx...\n",
      "Summarizing WI 07 Viewing Local Customer Master Data and adding details.docx...\n",
      "Summarizing WI 19 How to view pricing set to expire.docx...\n",
      "Summarizing 15. Approve Vendor Invoice Discrepancies(1).docx...\n",
      "Summarizing WI 01 Creation of a Standard Sales Order.docx...\n",
      "Summarizing 34. How To Maintain Supplier Agreed Delivery Dates(2).docx...\n",
      "Summarizing WI 05 Adding PDFs and notes to a Sales Order.docx...\n",
      "Summarizing 16. How to Manage a Purchase Requisition Where the Status is Approved(1).docx...\n",
      "Summarizing WI 16 Navigating through the system.docx...\n",
      "Summarizing WI 08 Stock check from a Sales Order.docx...\n",
      "Summarizing 38. How to Find Vendor Information(1).docx...\n",
      "Summarizing WI 10 Other Open order reports.docx...\n",
      "Summarizing 21. How to access vendor performance data(1).docx...\n",
      "Summarizing 01.How to Create a Purchase Request and Submit it to the Workflow(2).docx...\n",
      "Summarizing 08. How To Send To The Supplier A Purchase Order Created By The MRP(1).docx...\n",
      "Summarizing 13. How To Reserve The Goods To Be Returned(1).docx...\n",
      "Summarizing 31. How To set up the Firm window for purchase agreement(1).docx...\n",
      "Summarizing 39. How to List Purchase Orders by Vendor(1).docx...\n",
      "Summarizing 12. How To Create A Purchase Return(1).docx...\n",
      "Summarizing 18. Requisition & Invoice Management - Patents & TM(1).docx...\n",
      "Summarizing 22. How to close under delivery quantities against a purchase order(1).docx...\n",
      "Summarizing 03. How To Create A Manual Purchase Order And Submit To The Workflow(2).docx...\n",
      "Summarizing 05. How To Create A Purchase Agreement And Submit To The Workflow(1).docx...\n"
     ]
    }
   ],
   "source": [
    "for original_file in os.listdir(\"original_docs\"):\n",
    "    # Create the new document where we will add all the cleaned info:\n",
    "    cleaned_doc = Document()\n",
    "\n",
    "    # We have to clean the titles of the documents to add them inside the document.\n",
    "    cleaned_file_name = clean_file_name(original_file)\n",
    "\n",
    "    # Add the title of the doc:\n",
    "    cleaned_doc.add_paragraph(cleaned_file_name)\n",
    "\n",
    "    # Remove all the images:\n",
    "    cleaned_doc = remove_images_from_docx(\n",
    "        input_docx_file = \"original_docs/\" + original_file,\n",
    "        cleaned_doc = cleaned_doc\n",
    "    )\n",
    "\n",
    "    # Save the doc to check that everything goes according to plan:\n",
    "    # cleaned_doc.save(\"data/\" + \"no images \" + original_file)\n",
    "\n",
    "    # Extract all the text:\n",
    "    extracted_text = extract_text(cleaned_doc)\n",
    "\n",
    "    # Remove page breaks:\n",
    "    extracted_text = delete_page_breaks(extracted_text)\n",
    "\n",
    "    print(f\"Summarizing {original_file}...\")\n",
    "    # set message history with the context:\n",
    "    summary_message_history = return_message_history(mode=\"summarizer\")\n",
    "    # Sumarize the text in one paragraph with chatgpt:\n",
    "    summarized_text = chat(extracted_text, summary_message_history)\n",
    "\n",
    "    # Create the pdf using the summarized text:\n",
    "    create_pdf(summarized_text, pdf_name=\"data/\" + cleaned_file_name + \".pdf\")"
   ]
  },
  {
   "attachments": {},
   "cell_type": "markdown",
   "metadata": {},
   "source": [
    "# Esto ya no"
   ]
  },
  {
   "cell_type": "code",
   "execution_count": 5,
   "metadata": {},
   "outputs": [],
   "source": [
    "from openai import OpenAI\n",
    "import os\n",
    "import streamlit as st\n",
    "\n",
    "os.environ[\"OPENAI_API_KEY\"] = st.secrets[\"OPENAI_API_KEY\"]\n",
    "\n",
    "client = OpenAI()\n",
    "\n",
    "assistant = client.beta.assistants.create(\n",
    "    name=\"Math Tutor\",\n",
    "    instructions=\"You are a personal math tutor. Write and run code to answer math questions.\",\n",
    "    tools=[{\"type\": \"code_interpreter\"}],\n",
    "    model=\"gpt-4-1106-preview\"\n",
    ")"
   ]
  },
  {
   "cell_type": "code",
   "execution_count": 6,
   "metadata": {},
   "outputs": [],
   "source": [
    "thread = client.beta.threads.create()"
   ]
  },
  {
   "cell_type": "code",
   "execution_count": 7,
   "metadata": {},
   "outputs": [],
   "source": [
    "message = client.beta.threads.messages.create(\n",
    "    thread_id=thread.id,\n",
    "    role=\"user\",\n",
    "    content=\"I need to solve the equation `3x + 11 = 14`. Can you help me?\"\n",
    ")"
   ]
  },
  {
   "cell_type": "code",
   "execution_count": 8,
   "metadata": {},
   "outputs": [],
   "source": [
    "run = client.beta.threads.runs.create(\n",
    "  thread_id=thread.id,\n",
    "  assistant_id=assistant.id,\n",
    "  instructions=\"Please address the user as Jane Doe. The user has a premium account.\"\n",
    ")"
   ]
  },
  {
   "cell_type": "code",
   "execution_count": 9,
   "metadata": {},
   "outputs": [],
   "source": [
    "run = client.beta.threads.runs.retrieve(\n",
    "  thread_id=thread.id,\n",
    "  run_id=run.id\n",
    ")\n"
   ]
  },
  {
   "cell_type": "code",
   "execution_count": 10,
   "metadata": {},
   "outputs": [],
   "source": [
    "messages = client.beta.threads.messages.list(\n",
    "  thread_id=thread.id\n",
    ")"
   ]
  },
  {
   "cell_type": "code",
   "execution_count": 11,
   "metadata": {},
   "outputs": [
    {
     "data": {
      "text/plain": [
       "SyncCursorPage[ThreadMessage](data=[ThreadMessage(id='msg_31Timyi0fHwNMEsOdzqsa7SS', assistant_id=None, content=[MessageContentText(text=Text(annotations=[], value='I need to solve the equation `3x + 11 = 14`. Can you help me?'), type='text')], created_at=1700576521, file_ids=[], metadata={}, object='thread.message', role='user', run_id=None, thread_id='thread_2TItk7Ipjlo9snyN5UGAomhv')], object='list', first_id='msg_31Timyi0fHwNMEsOdzqsa7SS', last_id='msg_31Timyi0fHwNMEsOdzqsa7SS', has_more=False)"
      ]
     },
     "execution_count": 11,
     "metadata": {},
     "output_type": "execute_result"
    }
   ],
   "source": []
  },
  {
   "attachments": {},
   "cell_type": "markdown",
   "metadata": {},
   "source": [
    "Youtube tuorial:"
   ]
  },
  {
   "cell_type": "code",
   "execution_count": 1,
   "metadata": {},
   "outputs": [],
   "source": [
    "from openai import OpenAI\n",
    "import streamlit as st\n",
    "import os\n",
    "\n",
    "os.environ[\"OPENAI_API_KEY\"] = st.secrets[\"OPENAI_API_KEY\"]\n",
    "client = OpenAI()"
   ]
  },
  {
   "cell_type": "code",
   "execution_count": 16,
   "metadata": {},
   "outputs": [],
   "source": [
    "assistant = client.beta.assistants.create(\n",
    "    name = \"Math tutor 1\",\n",
    "    instructions = \"You are a personal math teacher. Write and run code to answer math questions\",\n",
    "    tools = [{\"type\": \"code_interpreter\"}],\n",
    "    model = \"gpt-4\"\n",
    ")"
   ]
  },
  {
   "cell_type": "code",
   "execution_count": 17,
   "metadata": {},
   "outputs": [
    {
     "name": "stdout",
     "output_type": "stream",
     "text": [
      "Assistant(id='asst_XYotmVQS0fwmZ32NC0XqKKdc', created_at=1700583039, description=None, file_ids=[], instructions='You are a personal math teacher. Write and run code to answer math questions', metadata={}, model='gpt-4', name='Math tutor 1', object='assistant', tools=[ToolCodeInterpreter(type='code_interpreter')])\n"
     ]
    }
   ],
   "source": [
    "print(assistant)"
   ]
  },
  {
   "cell_type": "code",
   "execution_count": 18,
   "metadata": {},
   "outputs": [],
   "source": [
    "thread = client.beta.threads.create()"
   ]
  },
  {
   "cell_type": "code",
   "execution_count": 19,
   "metadata": {},
   "outputs": [
    {
     "name": "stdout",
     "output_type": "stream",
     "text": [
      "Thread(id='thread_0Pmg8I8bJZ5o0PCZnzyAGQwx', created_at=1700583040, metadata={}, object='thread')\n"
     ]
    }
   ],
   "source": [
    "print(thread)"
   ]
  },
  {
   "cell_type": "code",
   "execution_count": 31,
   "metadata": {},
   "outputs": [],
   "source": [
    "message = client.beta.threads.messages.create(\n",
    "    thread_id = thread.id,\n",
    "    role = \"user\",\n",
    "    content = \"Solve this problem: 3x² -11 = 14\"\n",
    ")"
   ]
  },
  {
   "cell_type": "code",
   "execution_count": 32,
   "metadata": {},
   "outputs": [
    {
     "name": "stdout",
     "output_type": "stream",
     "text": [
      "ThreadMessage(id='msg_jGPFBckDNqC6sy9XByByBMsU', assistant_id=None, content=[MessageContentText(text=Text(annotations=[], value='Solve this problem: 3x² -11 = 14'), type='text')], created_at=1700583804, file_ids=[], metadata={}, object='thread.message', role='user', run_id=None, thread_id='thread_0Pmg8I8bJZ5o0PCZnzyAGQwx')\n"
     ]
    }
   ],
   "source": [
    "print(message)"
   ]
  },
  {
   "cell_type": "code",
   "execution_count": 33,
   "metadata": {},
   "outputs": [],
   "source": [
    "run = client.beta.threads.runs.create(\n",
    "    thread_id = thread.id,\n",
    "    assistant_id = assistant.id\n",
    ")"
   ]
  },
  {
   "cell_type": "code",
   "execution_count": 36,
   "metadata": {},
   "outputs": [],
   "source": [
    "\n",
    "run = client.beta.threads.runs.retrieve(\n",
    "    thread_id = thread.id,\n",
    "    run_id = run.id\n",
    ")"
   ]
  },
  {
   "cell_type": "code",
   "execution_count": 37,
   "metadata": {},
   "outputs": [
    {
     "name": "stdout",
     "output_type": "stream",
     "text": [
      "Run(id='run_w7OKpJgP4078VpkYZ8Ij4KAv', assistant_id='asst_XYotmVQS0fwmZ32NC0XqKKdc', cancelled_at=None, completed_at=1700583814, created_at=1700583808, expires_at=None, failed_at=None, file_ids=[], instructions='You are a personal math teacher. Write and run code to answer math questions', last_error=None, metadata={}, model='gpt-4', object='thread.run', required_action=None, started_at=1700583808, status='completed', thread_id='thread_0Pmg8I8bJZ5o0PCZnzyAGQwx', tools=[ToolAssistantToolsCode(type='code_interpreter')])\n"
     ]
    }
   ],
   "source": [
    "print(run)"
   ]
  },
  {
   "cell_type": "code",
   "execution_count": 38,
   "metadata": {},
   "outputs": [
    {
     "data": {
      "text/plain": [
       "'completed'"
      ]
     },
     "execution_count": 38,
     "metadata": {},
     "output_type": "execute_result"
    }
   ],
   "source": [
    "run.stat"
   ]
  },
  {
   "cell_type": "code",
   "execution_count": 39,
   "metadata": {},
   "outputs": [],
   "source": [
    "messages = client.beta.threads.messages.list(\n",
    "    thread_id = thread.id\n",
    ")"
   ]
  },
  {
   "cell_type": "code",
   "execution_count": 40,
   "metadata": {},
   "outputs": [
    {
     "name": "stdout",
     "output_type": "stream",
     "text": [
      "user: Solve this problem: 3x + 11 = 14\n",
      "user: Solve this problem: 3x² -11 = 14\n",
      "assistant: The solutions to the equation 3x² -11 = 14 are x = -5√3/3 and x = 5√3/3\n"
     ]
    }
   ],
   "source": [
    "for message in reversed(messages.data):\n",
    "    print(f\"{message.role}: {message.content[0].text.value}\")"
   ]
  },
  {
   "cell_type": "code",
   "execution_count": 12,
   "metadata": {},
   "outputs": [
    {
     "name": "stdout",
     "output_type": "stream",
     "text": [
      "[ThreadMessage(id='msg_nQmTBgjFgP3JqCRf62omikoD', assistant_id=None, content=[MessageContentText(text=Text(annotations=[], value='Solve this problem: 3x + 11 = 14'), type='text')], created_at=1700582993, file_ids=[], metadata={}, object='thread.message', role='user', run_id=None, thread_id='thread_oBF5ZXYVYXjbvxeg9CcgUObr')]\n"
     ]
    }
   ],
   "source": [
    "print(messages.data)"
   ]
  },
  {
   "cell_type": "code",
   "execution_count": 13,
   "metadata": {},
   "outputs": [
    {
     "name": "stdout",
     "output_type": "stream",
     "text": [
      "SyncCursorPage[ThreadMessage](data=[ThreadMessage(id='msg_nQmTBgjFgP3JqCRf62omikoD', assistant_id=None, content=[MessageContentText(text=Text(annotations=[], value='Solve this problem: 3x + 11 = 14'), type='text')], created_at=1700582993, file_ids=[], metadata={}, object='thread.message', role='user', run_id=None, thread_id='thread_oBF5ZXYVYXjbvxeg9CcgUObr')], object='list', first_id='msg_nQmTBgjFgP3JqCRf62omikoD', last_id='msg_nQmTBgjFgP3JqCRf62omikoD', has_more=False)\n"
     ]
    }
   ],
   "source": [
    "print(messages)"
   ]
  },
  {
   "cell_type": "code",
   "execution_count": 14,
   "metadata": {},
   "outputs": [
    {
     "name": "stdout",
     "output_type": "stream",
     "text": [
      "Run(id='run_TTBxO9DazWpP99PR3W6jxWRz', assistant_id='asst_B8uZjNOcPyDaiB2yOG8XoujC', cancelled_at=None, completed_at=None, created_at=1700582994, expires_at=1700583594, failed_at=None, file_ids=[], instructions='You are a personal math teacher. Write and run code to answer math questions', last_error=None, metadata={}, model='gpt-4', object='thread.run', required_action=None, started_at=1700582995, status='in_progress', thread_id='thread_oBF5ZXYVYXjbvxeg9CcgUObr', tools=[ToolAssistantToolsCode(type='code_interpreter')])\n"
     ]
    }
   ],
   "source": [
    "print(run)"
   ]
  },
  {
   "attachments": {},
   "cell_type": "markdown",
   "metadata": {},
   "source": [
    "## Creation of the database"
   ]
  },
  {
   "cell_type": "code",
   "execution_count": 1,
   "metadata": {},
   "outputs": [],
   "source": [
    "from memory_chat_utils.vector_database import VectorDatabase\n",
    "from langchain.vectorstores import FAISS"
   ]
  },
  {
   "cell_type": "code",
   "execution_count": 2,
   "metadata": {},
   "outputs": [
    {
     "name": "stdout",
     "output_type": "stream",
     "text": [
      "Creating vectordatabase...\n",
      "Vectordatabase successfully created and stored\n"
     ]
    },
    {
     "data": {
      "text/plain": [
       "<memory_chat_utils.vector_database.VectorDatabase at 0x7ffa88a53d60>"
      ]
     },
     "execution_count": 2,
     "metadata": {},
     "output_type": "execute_result"
    }
   ],
   "source": [
    "VectorDatabase(data_path=\"/home/leibniz/Desktop/herogra-assistant/data/data_by_sections\", action=\"store\")"
   ]
  },
  {
   "cell_type": "code",
   "execution_count": 3,
   "metadata": {},
   "outputs": [
    {
     "name": "stdout",
     "output_type": "stream",
     "text": [
      "Loading database...\n",
      "Database loaded\n"
     ]
    }
   ],
   "source": [
    "vector_database = VectorDatabase(data_path=\"/home/leibniz/Desktop/herogra-assistant/data/data_by_sections\", action=\"load\")"
   ]
  },
  {
   "cell_type": "code",
   "execution_count": 4,
   "metadata": {},
   "outputs": [
    {
     "name": "stdout",
     "output_type": "stream",
     "text": [
      "RAW DATABASE OUTPUT:\n",
      "[(Document(page_content='irritación ocular grave. La clasificación del producto incluye categorías como lesión\\nocular grave, irritación ocular, sólido comburente y corrosivo cutáneo. Los cambios en el producto', metadata={'source': '/home/leibniz/Desktop/herogra-assistant/data/data_by_sections/AAR315 - 4+2+6 EXTRA NA-V FERTIGOTA  Seccion_16.pdf', 'page': 0}), 0.28440893), (Document(page_content='la\\nirritación ocular. Se deben quitar las prendas contaminadas y eliminar el contenido y/o recipiente de manera\\nadecuada. El producto contiene sulfato de hierro (II). No se clasifican como PBT, mPmB,', metadata={'source': '/home/leibniz/Desktop/herogra-assistant/data/data_by_sections/BOE607 - 6+10+12 HEROSOL MULTICOLOR  Seccion_2.pdf', 'page': 0}), 0.29572254), (Document(page_content='de peligro definidas en el\\nReglamento (CE) nº 1272/2008. Las salpicaduras en los ojos pueden causar irritación y daños reversibles.\\nTambién se detalla información toxicológica de las sustancias', metadata={'source': '/home/leibniz/Desktop/herogra-assistant/data/data_by_sections/AAR315 - 4+2+6 EXTRA NA-V FERTIGOTA  Seccion_11.pdf', 'page': 0}), 0.31818992), (Document(page_content='como nociva en caso de ingestión,\\nprovoca irritación ocular grave y cutánea. El etiquetado se realiza de acuerdo con el mismo reglamento,\\nmostrando pictogramas y la palabra de advertencia \"Atención\".', metadata={'source': '/home/leibniz/Desktop/herogra-assistant/data/data_by_sections/BOE607 - 6+10+12 HEROSOL MULTICOLOR  Seccion_2.pdf', 'page': 0}), 0.32611394), (Document(page_content='También provoca irritación\\nocular grave y puede causar daños en los órganos tras exposiciones prolongadas o repetidas. Además, es\\ntóxico para los organismos acuáticos, con efectos nocivos duraderos.', metadata={'source': '/home/leibniz/Desktop/herogra-assistant/data/data_by_sections/BOE607 - 6+10+12 HEROSOL MULTICOLOR  Seccion_16.pdf', 'page': 0}), 0.3288505), (Document(page_content='que causa irritación ocular grave. Los códigos de clasificación correspondientes son Eye Dam. 1, Skin\\nCorr. 1 y Skin Corr. 1B. Hubo modificaciones en la información del proveedor y en los valores de', metadata={'source': '/home/leibniz/Desktop/herogra-assistant/data/data_by_sections/AAR315 - 4+2+6 AZUFRE NA FERTIGOTA  Seccion_16.pdf', 'page': 0}), 0.33036804), (Document(page_content='que el producto provoca quemaduras graves en la piel y\\nlesiones oculares graves. Se dan consejos de prudencia que incluyen no respirar el polvo, humo, gas, niebla,\\nvapores o aerosol, lavarse las manos', metadata={'source': '/home/leibniz/Desktop/herogra-assistant/data/data_by_sections/AAR315 - 4+2+6 EXTRA NA-V FERTIGOTA  Seccion_2.pdf', 'page': 0}), 0.33328307), (Document(page_content='Se recomienda precaución y el uso de equipo de\\nprotección, y en caso de contacto con los ojos, enjuagar con agua y consultar a un médico si persiste la\\nirritación ocular. Se deben quitar las prendas', metadata={'source': '/home/leibniz/Desktop/herogra-assistant/data/data_by_sections/BOE607 - 6+10+12 HEROSOL MULTICOLOR  Seccion_2.pdf', 'page': 0}), 0.3358334), (Document(page_content='químico que puede causar\\nirritación y daños reversibles si entra en contacto con los ojos. Según los ensayos de toxicidad aguda\\nrealizados en ratas, la dosis letal media oral es de 1530 mg/kg bw y la', metadata={'source': '/home/leibniz/Desktop/herogra-assistant/data/data_by_sections/AAR315 - 4+2+6 AZUFRE NA FERTIGOTA  Seccion_11.pdf', 'page': 0}), 0.35279635), (Document(page_content='acuáticos, con efectos nocivos duraderos. La clasificación del producto incluye\\ntoxicidad oral aguda (Categoría 4), efectos crónicos para el medio ambiente acuático (Categoría 2), irritación\\nocular', metadata={'source': '/home/leibniz/Desktop/herogra-assistant/data/data_by_sections/BOE607 - 6+10+12 HEROSOL MULTICOLOR  Seccion_16.pdf', 'page': 0}), 0.3551786)]\n"
     ]
    },
    {
     "data": {
      "text/plain": [
       "'Información producto AAR3154+2+6 EXTRA NA-V FERTIGOTA: irritación ocular grave. La clasificación del producto incluye categorías como lesión ocular grave, irritación ocular, sólido comburente y corrosivo cutáneo. Los cambios en el producto. de peligro definidas en el Reglamento (CE) nº 1272/2008. Las salpicaduras en los ojos pueden causar irritación y daños reversibles. También se detalla información toxicológica de las sustancias. que el producto provoca quemaduras graves en la piel y lesiones oculares graves. Se dan consejos de prudencia que incluyen no respirar el polvo, humo, gas, niebla, vapores o aerosol, lavarse las manos \\nInformación producto BOE6076+10+12 HEROSOL MULTICOLOR: la irritación ocular. Se deben quitar las prendas contaminadas y eliminar el contenido y/o recipiente de manera adecuada. El producto contiene sulfato de hierro (II). No se clasifican como PBT, mPmB,. como nociva en caso de ingestión, provoca irritación ocular grave y cutánea. El etiquetado se realiza de acuerdo con el mismo reglamento, mostrando pictogramas y la palabra de advertencia \"Atención\".. También provoca irritación ocular grave y puede causar daños en los órganos tras exposiciones prolongadas o repetidas. Además, es tóxico para los organismos acuáticos, con efectos nocivos duraderos.. Se recomienda precaución y el uso de equipo de protección, y en caso de contacto con los ojos, enjuagar con agua y consultar a un médico si persiste la irritación ocular. Se deben quitar las prendas. acuáticos, con efectos nocivos duraderos. La clasificación del producto incluye toxicidad oral aguda (Categoría 4), efectos crónicos para el medio ambiente acuático (Categoría 2), irritación ocular \\nInformación producto AAR3154+2+6 AZUFRE NA FERTIGOTA: que causa irritación ocular grave. Los códigos de clasificación correspondientes son Eye Dam. 1, Skin Corr. 1 y Skin Corr. 1B. Hubo modificaciones en la información del proveedor y en los valores de. químico que puede causar irritación y daños reversibles si entra en contacto con los ojos. Según los ensayos de toxicidad aguda realizados en ratas, la dosis letal media oral es de 1530 mg/kg bw y la \\n'"
      ]
     },
     "execution_count": 4,
     "metadata": {},
     "output_type": "execute_result"
    }
   ],
   "source": [
    "vector_database.run_query(\"Que productos pueden causar irritación en los ojos?\")"
   ]
  },
  {
   "cell_type": "code",
   "execution_count": 13,
   "metadata": {},
   "outputs": [
    {
     "data": {
      "text/plain": [
       "[(Document(page_content='irritación ocular grave. La clasificación del producto incluye categorías como lesión\\nocular grave, irritación ocular, sólido comburente y corrosivo cutáneo. Los cambios en el producto', metadata={'source': '/home/leibniz/Desktop/herogra-assistant/data/data_by_sections/AAR315 - 4+2+6 EXTRA NA-V FERTIGOTA  Seccion_16.pdf', 'page': 0}),\n",
       "  0.2773382),\n",
       " (Document(page_content='que el producto provoca quemaduras graves en la piel y\\nlesiones oculares graves. Se dan consejos de prudencia que incluyen no respirar el polvo, humo, gas, niebla,\\nvapores o aerosol, lavarse las manos', metadata={'source': '/home/leibniz/Desktop/herogra-assistant/data/data_by_sections/AAR315 - 4+2+6 EXTRA NA-V FERTIGOTA  Seccion_2.pdf', 'page': 0}),\n",
       "  0.29691175),\n",
       " (Document(page_content='de peligro definidas en el\\nReglamento (CE) nº 1272/2008. Las salpicaduras en los ojos pueden causar irritación y daños reversibles.\\nTambién se detalla información toxicológica de las sustancias', metadata={'source': '/home/leibniz/Desktop/herogra-assistant/data/data_by_sections/AAR315 - 4+2+6 EXTRA NA-V FERTIGOTA  Seccion_11.pdf', 'page': 0}),\n",
       "  0.31119403),\n",
       " (Document(page_content='como nociva en caso de ingestión,\\nprovoca irritación ocular grave y cutánea. El etiquetado se realiza de acuerdo con el mismo reglamento,\\nmostrando pictogramas y la palabra de advertencia \"Atención\".', metadata={'source': '/home/leibniz/Desktop/herogra-assistant/data/data_by_sections/BOE607 - 6+10+12 HEROSOL MULTICOLOR  Seccion_2.pdf', 'page': 0}),\n",
       "  0.31266862),\n",
       " (Document(page_content='la\\nirritación ocular. Se deben quitar las prendas contaminadas y eliminar el contenido y/o recipiente de manera\\nadecuada. El producto contiene sulfato de hierro (II). No se clasifican como PBT, mPmB,', metadata={'source': '/home/leibniz/Desktop/herogra-assistant/data/data_by_sections/BOE607 - 6+10+12 HEROSOL MULTICOLOR  Seccion_2.pdf', 'page': 0}),\n",
       "  0.316449),\n",
       " (Document(page_content='También provoca irritación\\nocular grave y puede causar daños en los órganos tras exposiciones prolongadas o repetidas. Además, es\\ntóxico para los organismos acuáticos, con efectos nocivos duraderos.', metadata={'source': '/home/leibniz/Desktop/herogra-assistant/data/data_by_sections/BOE607 - 6+10+12 HEROSOL MULTICOLOR  Seccion_16.pdf', 'page': 0}),\n",
       "  0.324782),\n",
       " (Document(page_content='SECCIÓN 2\\nIDENTIFICACIÓN DE LOS PELIGROS. DE AAR315-4+2+6 EXTRA NA-V FERTIGOTA\\nLa sustancia o mezcla se clasifica según el Reglamento (CE) No 1272/2008 como Eye Dam. 1, lo que significa\\nque provoca', metadata={'source': '/home/leibniz/Desktop/herogra-assistant/data/data_by_sections/AAR315 - 4+2+6 EXTRA NA-V FERTIGOTA  Seccion_2.pdf', 'page': 0}),\n",
       "  0.3278088),\n",
       " (Document(page_content='lesiones oculares graves.\\nTambién está clasificado como H315, lo que significa que provoca irritación cutánea, y como H319, lo cual\\nindica que causa irritación ocular grave. Los códigos de', metadata={'source': '/home/leibniz/Desktop/herogra-assistant/data/data_by_sections/AAR315 - 4+2+6 AZUFRE NA FERTIGOTA  Seccion_16.pdf', 'page': 0}),\n",
       "  0.32909632),\n",
       " (Document(page_content='y oral, y se\\nproporcionan datos específicos sobre dosis letales en ratas y conejos. Además, se resalta la clasificación del\\nproducto como corrosivo cutáneo (Categoría 1) y lesión ocular grave', metadata={'source': '/home/leibniz/Desktop/herogra-assistant/data/data_by_sections/AAR315 - 4+2+6 EXTRA NA-V FERTIGOTA  Seccion_11.pdf', 'page': 0}),\n",
       "  0.3317594),\n",
       " (Document(page_content='oculares graves. El etiquetado cumple con el mismo reglamento e incluye un pictograma de peligro y\\nla palabra \"Peligro\". Las indicaciones de peligro son que el producto provoca quemaduras graves en la', metadata={'source': '/home/leibniz/Desktop/herogra-assistant/data/data_by_sections/AAR315 - 4+2+6 EXTRA NA-V FERTIGOTA  Seccion_2.pdf', 'page': 0}),\n",
       "  0.3338728)]"
      ]
     },
     "execution_count": 13,
     "metadata": {},
     "output_type": "execute_result"
    }
   ],
   "source": [
    "query = \"Que productos pueden causar lesiones oculares?\"\n",
    "vector_store_local.similarity_search_with_score(query, 10)"
   ]
  },
  {
   "cell_type": "code",
   "execution_count": 12,
   "metadata": {},
   "outputs": [],
   "source": [
    "import streamlit as st\n",
    "from semantic_kernel.connectors.ai.open_ai import AzureChatCompletion\n",
    "from semantic_kernel.connectors.ai.chat_request_settings import ChatRequestSettings"
   ]
  },
  {
   "cell_type": "code",
   "execution_count": 13,
   "metadata": {},
   "outputs": [],
   "source": [
    "model_name = \"gpt-4-32k\"\n",
    "deployment_name = f\"{model_name}-herogra\"\n",
    "\n",
    "llm = AzureChatCompletion(\n",
    "    deployment_name = deployment_name, \n",
    "    endpoint = st.secrets[\"ENDPOINT\"], \n",
    "    api_key = st.secrets[\"AZURE_API_KEY\"]\n",
    ")"
   ]
  },
  {
   "cell_type": "code",
   "execution_count": 14,
   "metadata": {},
   "outputs": [
    {
     "data": {
      "text/plain": [
       "'azure'"
      ]
     },
     "execution_count": 14,
     "metadata": {},
     "output_type": "execute_result"
    }
   ],
   "source": []
  },
  {
   "cell_type": "code",
   "execution_count": 11,
   "metadata": {},
   "outputs": [
    {
     "ename": "TypeError",
     "evalue": "__init__() missing 1 required positional argument: 'deployment_name'",
     "output_type": "error",
     "traceback": [
      "\u001b[0;31m---------------------------------------------------------------------------\u001b[0m",
      "\u001b[0;31mTypeError\u001b[0m                                 Traceback (most recent call last)",
      "Cell \u001b[0;32mIn[11], line 1\u001b[0m\n\u001b[0;32m----> 1\u001b[0m chat \u001b[39m=\u001b[39m AzureChatCompletion()\n",
      "\u001b[0;31mTypeError\u001b[0m: __init__() missing 1 required positional argument: 'deployment_name'"
     ]
    }
   ],
   "source": []
  },
  {
   "cell_type": "code",
   "execution_count": 9,
   "metadata": {},
   "outputs": [
    {
     "ename": "AttributeError",
     "evalue": "'ChatRequestSettings' object has no attribute '_model_id'",
     "output_type": "error",
     "traceback": [
      "\u001b[0;31m---------------------------------------------------------------------------\u001b[0m",
      "\u001b[0;31mAttributeError\u001b[0m                            Traceback (most recent call last)",
      "Cell \u001b[0;32mIn[9], line 1\u001b[0m\n\u001b[0;32m----> 1\u001b[0m chat\u001b[39m.\u001b[39;49m_model_id\n",
      "\u001b[0;31mAttributeError\u001b[0m: 'ChatRequestSettings' object has no attribute '_model_id'"
     ]
    }
   ],
   "source": [
    "chat._model_id"
   ]
  },
  {
   "cell_type": "code",
   "execution_count": null,
   "metadata": {},
   "outputs": [],
   "source": []
  }
 ],
 "metadata": {
  "kernelspec": {
   "display_name": "base",
   "language": "python",
   "name": "python3"
  },
  "language_info": {
   "codemirror_mode": {
    "name": "ipython",
    "version": 3
   },
   "file_extension": ".py",
   "mimetype": "text/x-python",
   "name": "python",
   "nbconvert_exporter": "python",
   "pygments_lexer": "ipython3",
   "version": "3.9.12"
  },
  "orig_nbformat": 4
 },
 "nbformat": 4,
 "nbformat_minor": 2
}
